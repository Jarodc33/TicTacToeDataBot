{
 "cells": [
  {
   "cell_type": "code",
   "execution_count": 1,
   "metadata": {},
   "outputs": [],
   "source": [
    "import numpy as np"
   ]
  },
  {
   "cell_type": "code",
   "execution_count": 3,
   "metadata": {},
   "outputs": [],
   "source": [
    "class TicTacToeGame():\n",
    "    def __init__(self, player1, player2):\n",
    "        self.player1 = player1\n",
    "        self.player2 = player2\n",
    "        self.state = np.array([])\n",
    "    \n",
    "    def play(self, player1, player2, gameCount = -1, display = True):\n",
    "        play = 'y'\n",
    "        if gameCount <= -1:\n",
    "            play = input(\"Play? (y/n)\")\n",
    "        while play == 'y' and gameCount != 0:\n",
    "            winner = self.game(player1, player2)\n",
    "            if winner == 1:\n",
    "                player1.win()\n",
    "                player2.lose()\n",
    "            elif winner == 2:\n",
    "                player1.lose()\n",
    "                player2.win()\n",
    "            else:\n",
    "                player1.tie()\n",
    "                player2.tie()\n",
    "                \n",
    "            if gameCount <= -1:\n",
    "                play = input(\"Play? (y/n)\")\n",
    "            else:\n",
    "                gameCount -= 1\n",
    "            \n",
    "    def game(self, player1, player2):\n",
    "        while True:\n",
    "            self.move(player1.move(self.state))\n",
    "            finished = self.won()\n",
    "            if finished: return finished\n",
    "            self.move(player2.move(self.state))\n",
    "            finished = self.won()\n",
    "            if finished: return finished\n",
    "            \n",
    "    def move(self, move):\n",
    "        pass\n",
    "            \n",
    "    def won(self):\n",
    "        pass\n",
    "    "
   ]
  },
  {
   "cell_type": "code",
   "execution_count": null,
   "metadata": {},
   "outputs": [],
   "source": []
  }
 ],
 "metadata": {
  "kernelspec": {
   "display_name": "tictactoe-env",
   "language": "python",
   "name": "tictactoe-env"
  },
  "language_info": {
   "codemirror_mode": {
    "name": "ipython",
    "version": 3
   },
   "file_extension": ".py",
   "mimetype": "text/x-python",
   "name": "python",
   "nbconvert_exporter": "python",
   "pygments_lexer": "ipython3",
   "version": "3.8.3"
  }
 },
 "nbformat": 4,
 "nbformat_minor": 4
}
