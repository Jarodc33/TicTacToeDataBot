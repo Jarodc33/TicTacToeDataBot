{
 "cells": [
  {
   "cell_type": "code",
   "execution_count": 1,
   "metadata": {},
   "outputs": [],
   "source": [
    "import sqlite3\n",
    "import numpy as np\n",
    "import pandas as pd"
   ]
  },
  {
   "cell_type": "code",
   "execution_count": 3,
   "metadata": {},
   "outputs": [],
   "source": [
    "class TicTacToeGame():\n",
    "    def __init__(self, player1, player2):\n",
    "        self.player1 = player1\n",
    "        self.player2 = player2\n",
    "        self.state = [[None, None, None],\n",
    "                      [None, None, None],\n",
    "                      [None, None, None]]\n",
    "    \n",
    "    def play(self, player1, player2, gameCount = -1, display = True):\n",
    "        play = 'y'\n",
    "        if gameCount <= -1:\n",
    "            play = input(\"Play? (y/n)\")\n",
    "        while play == 'y' and gameCount != 0:\n",
    "            winner = self.game(player1, player2)\n",
    "            \n",
    "            if winner == 1:\n",
    "                player1.win()\n",
    "                player2.lose()\n",
    "            elif winner == 2:\n",
    "                player1.lose()\n",
    "                player2.win()\n",
    "            else:\n",
    "                player1.tie()\n",
    "                player2.tie()\n",
    "                \n",
    "            if gameCount <= -1:\n",
    "                play = input(\"Play? (y/n)\")\n",
    "            else:\n",
    "                gameCount -= 1\n",
    "            \n",
    "    def game(self, player1, player2):\n",
    "        while True:\n",
    "            self.move(player1.move(self.state))\n",
    "            finished = self.won()\n",
    "            if finished: return finished\n",
    "            self.move(player2.move(self.state))\n",
    "            finished = self.won()\n",
    "            if finished: return finished\n",
    "            \n",
    "    def move(self, move):\n",
    "        pass\n",
    "            \n",
    "    def won(self):\n",
    "        pass\n",
    "    "
   ]
  },
  {
   "cell_type": "code",
   "execution_count": 38,
   "metadata": {},
   "outputs": [],
   "source": [
    "class Player():\n",
    "    def __init__(self):\n",
    "        pass\n",
    "    \n",
    "    def move(self, state):\n",
    "        raise NotImplementedError\n",
    "    \n",
    "class Human(Player):\n",
    "    pass\n",
    "\n",
    "class DataBot(Player):\n",
    "    def __init__(self, ID):\n",
    "        self.conn, self.cur = self.initiateDB(ID)\n",
    "        \n",
    "    def initiateDB(self, ID):\n",
    "        conn = sqlite3.connect(str(ID) + '.db')\n",
    "        cur = conn.cursor()\n",
    "        try:\n",
    "            c.execute(\"\"\"CREATE TABLE states\n",
    "                         ([state] string PRIMARY KEY, [wins] integer, [loss] integer, [tie] integer)\"\"\")\n",
    "        except:\n",
    "            pass\n",
    "        conn.commit()\n",
    "        return conn, cur\n",
    "        \n",
    "    def move(self, state):\n",
    "        pass\n",
    "    \n",
    "class BoardHelper():\n",
    "    def board_to_string(board):\n",
    "        player1 = ''\n",
    "        player2 = ''\n",
    "        for i in range(len(board)):\n",
    "            for j in range(len(board[i])):\n",
    "                if board[i][j] == 1:\n",
    "                    player1 += f'{i}{j}'\n",
    "                elif board[i][j] == 2:\n",
    "                    player2 += f'{i}{j}'\n",
    "        return player1 + '/' + player2\n",
    "    \n",
    "    def string_to_board(string):\n",
    "        board = [[None, None, None],\n",
    "                 [None, None, None],\n",
    "                 [None, None, None]]\n",
    "        split = string.split('/')\n",
    "        for i in range(len(split)):\n",
    "            for pair in [split[i][n: n+2] for n in range(0, len(split[i]), 2)]:\n",
    "                board[int(pair[0])][int(pair[1])] = i + 1\n",
    "        return board\n",
    "                "
   ]
  },
  {
   "cell_type": "code",
   "execution_count": 9,
   "metadata": {},
   "outputs": [],
   "source": [
    "import sqlite3\n",
    "\n",
    "conn = sqlite3.connect('TestDB.db')  # You can create a new database by changing the name within the quotes\n",
    "c = conn.cursor() # The database will be saved in the location where your 'py' file is saved\n",
    "\n",
    "# Create table - CLIENTS\n",
    "try:\n",
    "    c.execute('''CREATE TABLE B\n",
    "                 ([state] STRING,[win] integer, [loss] integer, [tie] integer)''')\n",
    "except:\n",
    "    pass\n",
    "                 \n",
    "conn.commit()\n"
   ]
  },
  {
   "cell_type": "code",
   "execution_count": 14,
   "metadata": {},
   "outputs": [
    {
     "data": {
      "text/plain": [
       "<sqlite3.Cursor at 0x12b813b20>"
      ]
     },
     "execution_count": 14,
     "metadata": {},
     "output_type": "execute_result"
    }
   ],
   "source": [
    "c.execute(\"\"\"REPLACE INTO B VALUES ('b',2,2,3)\"\"\")"
   ]
  },
  {
   "cell_type": "code",
   "execution_count": 15,
   "metadata": {},
   "outputs": [
    {
     "data": {
      "text/plain": [
       "[('d', 1, 2, 3), ('c', 2, 2, 3), ('a', 2, 2, 3), ('b', 2, 2, 3)]"
      ]
     },
     "execution_count": 15,
     "metadata": {},
     "output_type": "execute_result"
    }
   ],
   "source": [
    "c.execute(\"\"\"SELECT * FROM B\"\"\")\n",
    "c.fetchall()"
   ]
  },
  {
   "cell_type": "code",
   "execution_count": 8,
   "metadata": {},
   "outputs": [],
   "source": [
    "conn.commit()"
   ]
  },
  {
   "cell_type": "code",
   "execution_count": null,
   "metadata": {},
   "outputs": [],
   "source": []
  }
 ],
 "metadata": {
  "kernelspec": {
   "display_name": "tictactoe-env",
   "language": "python",
   "name": "tictactoe-env"
  },
  "language_info": {
   "codemirror_mode": {
    "name": "ipython",
    "version": 3
   },
   "file_extension": ".py",
   "mimetype": "text/x-python",
   "name": "python",
   "nbconvert_exporter": "python",
   "pygments_lexer": "ipython3",
   "version": "3.8.3"
  }
 },
 "nbformat": 4,
 "nbformat_minor": 4
}
