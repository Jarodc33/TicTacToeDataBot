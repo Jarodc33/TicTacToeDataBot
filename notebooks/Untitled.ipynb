{
 "cells": [
  {
   "cell_type": "code",
   "execution_count": 6,
   "metadata": {},
   "outputs": [],
   "source": [
    "import random\n",
    "import sqlite3\n",
    "import numpy as np\n",
    "import pandas as pd"
   ]
  },
  {
   "cell_type": "code",
   "execution_count": 8,
   "metadata": {},
   "outputs": [],
   "source": [
    "class TicTacToeGame():\n",
    "    def __init__(self):\n",
    "        self.reset()\n",
    "    \n",
    "    def play(self, player1, player2, gameCount = -1, display = False):\n",
    "        play = 'y'\n",
    "        if gameCount <= -1:\n",
    "            play = input(\"Play? (y/n)\")\n",
    "        while play == 'y' and gameCount != 0:\n",
    "            winner = self.game(player1, player2, display)\n",
    "            \n",
    "            if winner == 1:\n",
    "                player1.win()\n",
    "                player2.lose()\n",
    "            elif winner == 2:\n",
    "                player1.lose()\n",
    "                player2.win()\n",
    "            else:\n",
    "                player1.tie()\n",
    "                player2.tie()\n",
    "                \n",
    "            if gameCount <= -1:\n",
    "                play = input(\"Play? (y/n)\")\n",
    "            else:\n",
    "                gameCount -= 1\n",
    "            \n",
    "            \n",
    "            \n",
    "    def game(self, player1, player2, display):\n",
    "        self.reset()\n",
    "        while True:\n",
    "            self.update(player1.move(self.state), 1)\n",
    "            if display: self.display()\n",
    "            finished = self.won()\n",
    "            if finished: return finished\n",
    "            \n",
    "            self.update(player2.move(self.state), 2)\n",
    "            if display: self.display()\n",
    "            finished = self.won()\n",
    "            if finished: return finished\n",
    "       \n",
    "    \n",
    "    \n",
    "    def update(self, move, player):\n",
    "        self.state[move[0]][move[1]] = player\n",
    "            \n",
    "    def won(self):\n",
    "        pass\n",
    "    \n",
    "    def reset(self):\n",
    "        self.state = [[None, None, None],\n",
    "                      [None, None, None],\n",
    "                      [None, None, None]]\n",
    "        \n",
    "        \n",
    "    def display(self):\n",
    "        for row in self.state:\n",
    "            print(row)\n",
    "        print()\n",
    "    "
   ]
  },
  {
   "cell_type": "code",
   "execution_count": 9,
   "metadata": {},
   "outputs": [],
   "source": [
    "class Player():\n",
    "    def __init__(self):\n",
    "        pass\n",
    "    \n",
    "    def move(self, state):\n",
    "        raise NotImplementedError\n",
    "        \n",
    "    def win():\n",
    "        pass\n",
    "    \n",
    "    def lose():\n",
    "        pass\n",
    "    \n",
    "    def tie():\n",
    "        pass\n",
    "    \n",
    "\n",
    "    \n",
    "class Human(Player):\n",
    "    pass\n",
    "\n",
    "\n",
    "\n",
    "class DataBot(Player):\n",
    "    def __init__(self, player_number, ID):\n",
    "        self.player_number = player_number\n",
    "        self.conn, self.cur = self.initiateDB(ID)\n",
    "        self.states = []\n",
    "     \n",
    "    \n",
    "    \n",
    "    def initiateDB(self, ID):\n",
    "        conn = sqlite3.connect(str(ID) + '.db')\n",
    "        cur = conn.cursor()\n",
    "        try:\n",
    "            cur.execute(\"\"\"CREATE TABLE states\n",
    "                         ([state] string PRIMARY KEY, [wins] integer, [loss] integer, [tie] integer)\"\"\")\n",
    "        except:\n",
    "            pass\n",
    "        conn.commit()\n",
    "        return conn, cur\n",
    "        \n",
    "        \n",
    "        \n",
    "    def move(self, state):\n",
    "        all_moves = self.get_moves(state)\n",
    "        data = self.get_data(all_moves)\n",
    "        data = self.fill_data(all_moves, data)\n",
    "        move = self.choose_move(data)\n",
    "        self.states.append(move)\n",
    "        return BoardHelper.difference(state, move[0])\n",
    "    \n",
    "    \n",
    "    \n",
    "    def get_moves(self, state):\n",
    "        moves = []\n",
    "        for i in range(len(state)):\n",
    "            for j in range(len(state[i])):\n",
    "                if state[i][j] == None:\n",
    "                    copy = BoardHelper.copy(state)\n",
    "                    copy[i][j] = self.player_number\n",
    "                    moves.append(BoardHelper.board_to_string(copy))\n",
    "        return moves\n",
    "    \n",
    "    \n",
    "    \n",
    "    def get_data(self, moves):\n",
    "        self.cur.execute(f\"\"\"SELECT * FROM states WHERE state IN {str(moves).replace('[', '(').replace(']', ')')}\"\"\")\n",
    "        return self.cur.fetchall()\n",
    "    \n",
    "    \n",
    "    \n",
    "    def fill_data(self, all_moves, data):\n",
    "        moves_copy = all_moves.copy()\n",
    "        full_data = []\n",
    "        for move in data:\n",
    "            moves_copy.remove(move[0])\n",
    "            full_data.append(move)\n",
    "        for move in moves_copy:\n",
    "            full_data.append((move, 0, 0, 0))\n",
    "        return full_data\n",
    "        \n",
    "        \n",
    "        \n",
    "    def choose_move(self, data):\n",
    "        win = []\n",
    "        unknown = []\n",
    "        tie = []\n",
    "        loss = []\n",
    "        for move in data:\n",
    "            if move[1] + move[2] + move[3] < 20:\n",
    "                unknown.append(move)\n",
    "            elif move[2] > 2 * (move[1] + move[3]): \n",
    "                loss.append(move)\n",
    "            elif move[3] > 3 * (move[1] + move[2]):\n",
    "                tie.append(move)\n",
    "            elif move[1] > move[2]:\n",
    "                win.append[move]\n",
    "            else:\n",
    "                unknown.append(move)\n",
    "        if len(win) > 0:\n",
    "            return random.choice(win)\n",
    "        if len(unknown) > 0:\n",
    "            return random.choice(unknown)\n",
    "        if random.random() > 0.2 and len(tie) > 0:\n",
    "            return random.choice(tie)\n",
    "        return random.choice(loss)\n",
    "        \n",
    "        \n",
    "        \n",
    "    def win(self):\n",
    "        pass\n",
    "    \n",
    "    \n",
    "    \n",
    "    def loss(self):\n",
    "        pass\n",
    "    \n",
    "    \n",
    "    \n",
    "    def tie(self):\n",
    "        pass\n",
    "    \n",
    "    \n",
    "    \n",
    "    \n",
    "class BoardHelper():\n",
    "    def board_to_string(board):\n",
    "        player1 = ''\n",
    "        player2 = ''\n",
    "        for i in range(len(board)):\n",
    "            for j in range(len(board[i])):\n",
    "                if board[i][j] == 1:\n",
    "                    player1 += f'{i}{j}'\n",
    "                elif board[i][j] == 2:\n",
    "                    player2 += f'{i}{j}'\n",
    "        return player1 + '/' + player2\n",
    "    \n",
    "    \n",
    "    \n",
    "    def string_to_board(string):\n",
    "        board = [[None, None, None],\n",
    "                 [None, None, None],\n",
    "                 [None, None, None]]\n",
    "        split = string.split('/')\n",
    "        for i in range(len(split)):\n",
    "            for pair in [split[i][n: n+2] for n in range(0, len(split[i]), 2)]:\n",
    "                board[int(pair[0])][int(pair[1])] = i + 1\n",
    "        return board\n",
    "    \n",
    "    \n",
    "    \n",
    "    def difference(state, other):\n",
    "        if type(state) == type('string'):\n",
    "            state = BoardHelper.string_to_board(state)\n",
    "        if type(other) == type('string'):\n",
    "            other = BoardHelper.string_to_board(other)\n",
    "        for i in range(len(state)):\n",
    "            for j in range(len(state[i])):\n",
    "                if state[i][j] != other[i][j]:\n",
    "                    return (i, j)\n",
    "        return None\n",
    "    \n",
    "    \n",
    "    \n",
    "    def copy(board):\n",
    "        return [row.copy() for row in board]\n",
    "                "
   ]
  },
  {
   "cell_type": "code",
   "execution_count": 11,
   "metadata": {},
   "outputs": [
    {
     "name": "stdout",
     "output_type": "stream",
     "text": [
      "[None, None, None]\n",
      "[None, None, None]\n",
      "[None, 1, None]\n",
      "\n",
      "[None, 2, None]\n",
      "[None, None, None]\n",
      "[None, 1, None]\n",
      "\n",
      "[None, 2, None]\n",
      "[None, None, None]\n",
      "[None, 1, 1]\n",
      "\n",
      "[2, 2, None]\n",
      "[None, None, None]\n",
      "[None, 1, 1]\n",
      "\n",
      "[2, 2, 1]\n",
      "[None, None, None]\n",
      "[None, 1, 1]\n",
      "\n",
      "[2, 2, 1]\n",
      "[None, 2, None]\n",
      "[None, 1, 1]\n",
      "\n",
      "[2, 2, 1]\n",
      "[1, 2, None]\n",
      "[None, 1, 1]\n",
      "\n",
      "[2, 2, 1]\n",
      "[1, 2, None]\n",
      "[2, 1, 1]\n",
      "\n",
      "[2, 2, 1]\n",
      "[1, 2, 1]\n",
      "[2, 1, 1]\n",
      "\n"
     ]
    },
    {
     "ename": "IndexError",
     "evalue": "Cannot choose from an empty sequence",
     "output_type": "error",
     "traceback": [
      "\u001b[0;31m---------------------------------------------------------------------------\u001b[0m",
      "\u001b[0;31mIndexError\u001b[0m                                Traceback (most recent call last)",
      "\u001b[0;32m<ipython-input-11-a962d0d32514>\u001b[0m in \u001b[0;36m<module>\u001b[0;34m\u001b[0m\n\u001b[1;32m      1\u001b[0m \u001b[0mttt\u001b[0m \u001b[0;34m=\u001b[0m \u001b[0mTicTacToeGame\u001b[0m\u001b[0;34m(\u001b[0m\u001b[0;34m)\u001b[0m\u001b[0;34m\u001b[0m\u001b[0;34m\u001b[0m\u001b[0m\n\u001b[0;32m----> 2\u001b[0;31m \u001b[0mttt\u001b[0m\u001b[0;34m.\u001b[0m\u001b[0mplay\u001b[0m\u001b[0;34m(\u001b[0m\u001b[0mDataBot\u001b[0m\u001b[0;34m(\u001b[0m\u001b[0;36m1\u001b[0m\u001b[0;34m,\u001b[0m \u001b[0;36m1\u001b[0m\u001b[0;34m)\u001b[0m\u001b[0;34m,\u001b[0m \u001b[0mDataBot\u001b[0m\u001b[0;34m(\u001b[0m\u001b[0;36m2\u001b[0m\u001b[0;34m,\u001b[0m \u001b[0;36m2\u001b[0m\u001b[0;34m)\u001b[0m\u001b[0;34m,\u001b[0m \u001b[0;36m1\u001b[0m\u001b[0;34m,\u001b[0m \u001b[0mdisplay\u001b[0m \u001b[0;34m=\u001b[0m \u001b[0;32mTrue\u001b[0m\u001b[0;34m)\u001b[0m\u001b[0;34m\u001b[0m\u001b[0;34m\u001b[0m\u001b[0m\n\u001b[0m",
      "\u001b[0;32m<ipython-input-8-57076950d58d>\u001b[0m in \u001b[0;36mplay\u001b[0;34m(self, player1, player2, gameCount, display)\u001b[0m\n\u001b[1;32m      8\u001b[0m             \u001b[0mplay\u001b[0m \u001b[0;34m=\u001b[0m \u001b[0minput\u001b[0m\u001b[0;34m(\u001b[0m\u001b[0;34m\"Play? (y/n)\"\u001b[0m\u001b[0;34m)\u001b[0m\u001b[0;34m\u001b[0m\u001b[0;34m\u001b[0m\u001b[0m\n\u001b[1;32m      9\u001b[0m         \u001b[0;32mwhile\u001b[0m \u001b[0mplay\u001b[0m \u001b[0;34m==\u001b[0m \u001b[0;34m'y'\u001b[0m \u001b[0;32mand\u001b[0m \u001b[0mgameCount\u001b[0m \u001b[0;34m!=\u001b[0m \u001b[0;36m0\u001b[0m\u001b[0;34m:\u001b[0m\u001b[0;34m\u001b[0m\u001b[0;34m\u001b[0m\u001b[0m\n\u001b[0;32m---> 10\u001b[0;31m             \u001b[0mwinner\u001b[0m \u001b[0;34m=\u001b[0m \u001b[0mself\u001b[0m\u001b[0;34m.\u001b[0m\u001b[0mgame\u001b[0m\u001b[0;34m(\u001b[0m\u001b[0mplayer1\u001b[0m\u001b[0;34m,\u001b[0m \u001b[0mplayer2\u001b[0m\u001b[0;34m,\u001b[0m \u001b[0mdisplay\u001b[0m\u001b[0;34m)\u001b[0m\u001b[0;34m\u001b[0m\u001b[0;34m\u001b[0m\u001b[0m\n\u001b[0m\u001b[1;32m     11\u001b[0m \u001b[0;34m\u001b[0m\u001b[0m\n\u001b[1;32m     12\u001b[0m             \u001b[0;32mif\u001b[0m \u001b[0mwinner\u001b[0m \u001b[0;34m==\u001b[0m \u001b[0;36m1\u001b[0m\u001b[0;34m:\u001b[0m\u001b[0;34m\u001b[0m\u001b[0;34m\u001b[0m\u001b[0m\n",
      "\u001b[0;32m<ipython-input-8-57076950d58d>\u001b[0m in \u001b[0;36mgame\u001b[0;34m(self, player1, player2, display)\u001b[0m\n\u001b[1;32m     35\u001b[0m             \u001b[0;32mif\u001b[0m \u001b[0mfinished\u001b[0m\u001b[0;34m:\u001b[0m \u001b[0;32mreturn\u001b[0m \u001b[0mfinished\u001b[0m\u001b[0;34m\u001b[0m\u001b[0;34m\u001b[0m\u001b[0m\n\u001b[1;32m     36\u001b[0m \u001b[0;34m\u001b[0m\u001b[0m\n\u001b[0;32m---> 37\u001b[0;31m             \u001b[0mself\u001b[0m\u001b[0;34m.\u001b[0m\u001b[0mupdate\u001b[0m\u001b[0;34m(\u001b[0m\u001b[0mplayer2\u001b[0m\u001b[0;34m.\u001b[0m\u001b[0mmove\u001b[0m\u001b[0;34m(\u001b[0m\u001b[0mself\u001b[0m\u001b[0;34m.\u001b[0m\u001b[0mstate\u001b[0m\u001b[0;34m)\u001b[0m\u001b[0;34m,\u001b[0m \u001b[0;36m2\u001b[0m\u001b[0;34m)\u001b[0m\u001b[0;34m\u001b[0m\u001b[0;34m\u001b[0m\u001b[0m\n\u001b[0m\u001b[1;32m     38\u001b[0m             \u001b[0;32mif\u001b[0m \u001b[0mdisplay\u001b[0m\u001b[0;34m:\u001b[0m \u001b[0mself\u001b[0m\u001b[0;34m.\u001b[0m\u001b[0mdisplay\u001b[0m\u001b[0;34m(\u001b[0m\u001b[0;34m)\u001b[0m\u001b[0;34m\u001b[0m\u001b[0;34m\u001b[0m\u001b[0m\n\u001b[1;32m     39\u001b[0m             \u001b[0mfinished\u001b[0m \u001b[0;34m=\u001b[0m \u001b[0mself\u001b[0m\u001b[0;34m.\u001b[0m\u001b[0mwon\u001b[0m\u001b[0;34m(\u001b[0m\u001b[0;34m)\u001b[0m\u001b[0;34m\u001b[0m\u001b[0;34m\u001b[0m\u001b[0m\n",
      "\u001b[0;32m<ipython-input-9-e23c0898d031>\u001b[0m in \u001b[0;36mmove\u001b[0;34m(self, state)\u001b[0m\n\u001b[1;32m     47\u001b[0m         \u001b[0mdata\u001b[0m \u001b[0;34m=\u001b[0m \u001b[0mself\u001b[0m\u001b[0;34m.\u001b[0m\u001b[0mget_data\u001b[0m\u001b[0;34m(\u001b[0m\u001b[0mall_moves\u001b[0m\u001b[0;34m)\u001b[0m\u001b[0;34m\u001b[0m\u001b[0;34m\u001b[0m\u001b[0m\n\u001b[1;32m     48\u001b[0m         \u001b[0mdata\u001b[0m \u001b[0;34m=\u001b[0m \u001b[0mself\u001b[0m\u001b[0;34m.\u001b[0m\u001b[0mfill_data\u001b[0m\u001b[0;34m(\u001b[0m\u001b[0mall_moves\u001b[0m\u001b[0;34m,\u001b[0m \u001b[0mdata\u001b[0m\u001b[0;34m)\u001b[0m\u001b[0;34m\u001b[0m\u001b[0;34m\u001b[0m\u001b[0m\n\u001b[0;32m---> 49\u001b[0;31m         \u001b[0mmove\u001b[0m \u001b[0;34m=\u001b[0m \u001b[0mself\u001b[0m\u001b[0;34m.\u001b[0m\u001b[0mchoose_move\u001b[0m\u001b[0;34m(\u001b[0m\u001b[0mdata\u001b[0m\u001b[0;34m)\u001b[0m\u001b[0;34m\u001b[0m\u001b[0;34m\u001b[0m\u001b[0m\n\u001b[0m\u001b[1;32m     50\u001b[0m         \u001b[0mself\u001b[0m\u001b[0;34m.\u001b[0m\u001b[0mstates\u001b[0m\u001b[0;34m.\u001b[0m\u001b[0mappend\u001b[0m\u001b[0;34m(\u001b[0m\u001b[0mmove\u001b[0m\u001b[0;34m)\u001b[0m\u001b[0;34m\u001b[0m\u001b[0;34m\u001b[0m\u001b[0m\n\u001b[1;32m     51\u001b[0m         \u001b[0;32mreturn\u001b[0m \u001b[0mBoardHelper\u001b[0m\u001b[0;34m.\u001b[0m\u001b[0mdifference\u001b[0m\u001b[0;34m(\u001b[0m\u001b[0mstate\u001b[0m\u001b[0;34m,\u001b[0m \u001b[0mmove\u001b[0m\u001b[0;34m[\u001b[0m\u001b[0;36m0\u001b[0m\u001b[0;34m]\u001b[0m\u001b[0;34m)\u001b[0m\u001b[0;34m\u001b[0m\u001b[0;34m\u001b[0m\u001b[0m\n",
      "\u001b[0;32m<ipython-input-9-e23c0898d031>\u001b[0m in \u001b[0;36mchoose_move\u001b[0;34m(self, data)\u001b[0m\n\u001b[1;32m    105\u001b[0m         \u001b[0;32mif\u001b[0m \u001b[0mrandom\u001b[0m\u001b[0;34m.\u001b[0m\u001b[0mrandom\u001b[0m\u001b[0;34m(\u001b[0m\u001b[0;34m)\u001b[0m \u001b[0;34m>\u001b[0m \u001b[0;36m0.2\u001b[0m \u001b[0;32mand\u001b[0m \u001b[0mlen\u001b[0m\u001b[0;34m(\u001b[0m\u001b[0mtie\u001b[0m\u001b[0;34m)\u001b[0m \u001b[0;34m>\u001b[0m \u001b[0;36m0\u001b[0m\u001b[0;34m:\u001b[0m\u001b[0;34m\u001b[0m\u001b[0;34m\u001b[0m\u001b[0m\n\u001b[1;32m    106\u001b[0m             \u001b[0;32mreturn\u001b[0m \u001b[0mrandom\u001b[0m\u001b[0;34m.\u001b[0m\u001b[0mchoice\u001b[0m\u001b[0;34m(\u001b[0m\u001b[0mtie\u001b[0m\u001b[0;34m)\u001b[0m\u001b[0;34m\u001b[0m\u001b[0;34m\u001b[0m\u001b[0m\n\u001b[0;32m--> 107\u001b[0;31m         \u001b[0;32mreturn\u001b[0m \u001b[0mrandom\u001b[0m\u001b[0;34m.\u001b[0m\u001b[0mchoice\u001b[0m\u001b[0;34m(\u001b[0m\u001b[0mloss\u001b[0m\u001b[0;34m)\u001b[0m\u001b[0;34m\u001b[0m\u001b[0;34m\u001b[0m\u001b[0m\n\u001b[0m\u001b[1;32m    108\u001b[0m \u001b[0;34m\u001b[0m\u001b[0m\n\u001b[1;32m    109\u001b[0m \u001b[0;34m\u001b[0m\u001b[0m\n",
      "\u001b[0;32m~/opt/anaconda3/envs/tictactoe-env/lib/python3.8/random.py\u001b[0m in \u001b[0;36mchoice\u001b[0;34m(self, seq)\u001b[0m\n\u001b[1;32m    288\u001b[0m             \u001b[0mi\u001b[0m \u001b[0;34m=\u001b[0m \u001b[0mself\u001b[0m\u001b[0;34m.\u001b[0m\u001b[0m_randbelow\u001b[0m\u001b[0;34m(\u001b[0m\u001b[0mlen\u001b[0m\u001b[0;34m(\u001b[0m\u001b[0mseq\u001b[0m\u001b[0;34m)\u001b[0m\u001b[0;34m)\u001b[0m\u001b[0;34m\u001b[0m\u001b[0;34m\u001b[0m\u001b[0m\n\u001b[1;32m    289\u001b[0m         \u001b[0;32mexcept\u001b[0m \u001b[0mValueError\u001b[0m\u001b[0;34m:\u001b[0m\u001b[0;34m\u001b[0m\u001b[0;34m\u001b[0m\u001b[0m\n\u001b[0;32m--> 290\u001b[0;31m             \u001b[0;32mraise\u001b[0m \u001b[0mIndexError\u001b[0m\u001b[0;34m(\u001b[0m\u001b[0;34m'Cannot choose from an empty sequence'\u001b[0m\u001b[0;34m)\u001b[0m \u001b[0;32mfrom\u001b[0m \u001b[0;32mNone\u001b[0m\u001b[0;34m\u001b[0m\u001b[0;34m\u001b[0m\u001b[0m\n\u001b[0m\u001b[1;32m    291\u001b[0m         \u001b[0;32mreturn\u001b[0m \u001b[0mseq\u001b[0m\u001b[0;34m[\u001b[0m\u001b[0mi\u001b[0m\u001b[0;34m]\u001b[0m\u001b[0;34m\u001b[0m\u001b[0;34m\u001b[0m\u001b[0m\n\u001b[1;32m    292\u001b[0m \u001b[0;34m\u001b[0m\u001b[0m\n",
      "\u001b[0;31mIndexError\u001b[0m: Cannot choose from an empty sequence"
     ]
    }
   ],
   "source": [
    "ttt = TicTacToeGame()\n",
    "ttt.play(DataBot(1, 1), DataBot(2, 2), 1, display = True)"
   ]
  },
  {
   "cell_type": "code",
   "execution_count": 9,
   "metadata": {},
   "outputs": [],
   "source": [
    "bot = DataBot(1,1)\n",
    "states = bot.get_moves([[None,None,None],[None,None,None],[None,None,None]])\n",
    "data = bot.get_data(states)"
   ]
  },
  {
   "cell_type": "code",
   "execution_count": 12,
   "metadata": {},
   "outputs": [],
   "source": [
    "filled_data = bot.fill_data(states, data)"
   ]
  },
  {
   "cell_type": "code",
   "execution_count": 15,
   "metadata": {},
   "outputs": [
    {
     "data": {
      "text/plain": [
       "('12/', 0, 0, 0)"
      ]
     },
     "execution_count": 15,
     "metadata": {},
     "output_type": "execute_result"
    }
   ],
   "source": [
    "bot.choose_move(filled_data)"
   ]
  },
  {
   "cell_type": "code",
   "execution_count": 24,
   "metadata": {},
   "outputs": [
    {
     "data": {
      "text/plain": [
       "['00/', '01/', '02/', '10/', '11/', '12/', '20/', '21/', '22/']"
      ]
     },
     "execution_count": 24,
     "metadata": {},
     "output_type": "execute_result"
    }
   ],
   "source": [
    "states"
   ]
  },
  {
   "cell_type": "code",
   "execution_count": 8,
   "metadata": {},
   "outputs": [],
   "source": [
    "import sqlite3\n",
    "\n",
    "conn = sqlite3.connect('TestDB.db')  # You can create a new database by changing the name within the quotes\n",
    "c = conn.cursor() # The database will be saved in the location where your 'py' file is saved\n",
    "\n",
    "# Create table - CLIENTS\n",
    "try:\n",
    "    c.execute('''CREATE TABLE B\n",
    "                 ([state] STRING,[win] integer, [loss] integer, [tie] integer)''')\n",
    "except:\n",
    "    pass\n",
    "                 \n",
    "conn.commit()\n"
   ]
  },
  {
   "cell_type": "code",
   "execution_count": 12,
   "metadata": {},
   "outputs": [
    {
     "data": {
      "text/plain": [
       "<sqlite3.Cursor at 0x121fe5b90>"
      ]
     },
     "execution_count": 12,
     "metadata": {},
     "output_type": "execute_result"
    }
   ],
   "source": [
    "c.execute(\"\"\"REPLACE INTO B VALUES ('b',2,2,3)\"\"\")"
   ]
  },
  {
   "cell_type": "code",
   "execution_count": 15,
   "metadata": {},
   "outputs": [
    {
     "data": {
      "text/plain": [
       "[('a', 2, 2, 3), ('b', 2, 2, 3)]"
      ]
     },
     "execution_count": 15,
     "metadata": {},
     "output_type": "execute_result"
    }
   ],
   "source": [
    "c.execute(\"\"\"SELECT * FROM B WHERE state IN ('a', 'b')\"\"\")\n",
    "c.fetchall()"
   ]
  },
  {
   "cell_type": "code",
   "execution_count": 16,
   "metadata": {},
   "outputs": [],
   "source": [
    "conn.commit()"
   ]
  },
  {
   "cell_type": "code",
   "execution_count": 5,
   "metadata": {},
   "outputs": [],
   "source": [
    "conn = sqlite3.connect('1.db')\n",
    "c = conn.cursor()"
   ]
  },
  {
   "cell_type": "code",
   "execution_count": 6,
   "metadata": {},
   "outputs": [],
   "source": [
    "c.execute(\"\"\"REPLACE INTO states VALUES ('00/', 1, 1, 1)\"\"\")\n",
    "conn.commit()"
   ]
  },
  {
   "cell_type": "code",
   "execution_count": 7,
   "metadata": {},
   "outputs": [
    {
     "data": {
      "text/plain": [
       "[('00/', 1, 1, 1)]"
      ]
     },
     "execution_count": 7,
     "metadata": {},
     "output_type": "execute_result"
    }
   ],
   "source": [
    "c.execute('SELECT * FROM states')\n",
    "c.fetchall()"
   ]
  },
  {
   "cell_type": "code",
   "execution_count": null,
   "metadata": {},
   "outputs": [],
   "source": []
  }
 ],
 "metadata": {
  "kernelspec": {
   "display_name": "tictactoe-env",
   "language": "python",
   "name": "tictactoe-env"
  },
  "language_info": {
   "codemirror_mode": {
    "name": "ipython",
    "version": 3
   },
   "file_extension": ".py",
   "mimetype": "text/x-python",
   "name": "python",
   "nbconvert_exporter": "python",
   "pygments_lexer": "ipython3",
   "version": "3.8.3"
  }
 },
 "nbformat": 4,
 "nbformat_minor": 4
}
