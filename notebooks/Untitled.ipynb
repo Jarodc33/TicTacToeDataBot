{
 "cells": [
  {
   "cell_type": "code",
   "execution_count": 18,
   "metadata": {},
   "outputs": [],
   "source": [
    "import sqlite3\n",
    "import numpy as np\n",
    "import pandas as pd"
   ]
  },
  {
   "cell_type": "code",
   "execution_count": 3,
   "metadata": {},
   "outputs": [],
   "source": [
    "class TicTacToeGame():\n",
    "    def __init__(self, player1, player2):\n",
    "        self.player1 = player1\n",
    "        self.player2 = player2\n",
    "        self.state = [[None, None, None],\n",
    "                      [None, None, None],\n",
    "                      [None, None, None]]\n",
    "    \n",
    "    def play(self, player1, player2, gameCount = -1, display = False):\n",
    "        play = 'y'\n",
    "        if gameCount <= -1:\n",
    "            play = input(\"Play? (y/n)\")\n",
    "        while play == 'y' and gameCount != 0:\n",
    "            winner = self.game(player1, player2)\n",
    "            \n",
    "            if winner == 1:\n",
    "                player1.win()\n",
    "                player2.lose()\n",
    "            elif winner == 2:\n",
    "                player1.lose()\n",
    "                player2.win()\n",
    "            else:\n",
    "                player1.tie()\n",
    "                player2.tie()\n",
    "                \n",
    "            if gameCount <= -1:\n",
    "                play = input(\"Play? (y/n)\")\n",
    "            else:\n",
    "                gameCount -= 1\n",
    "            \n",
    "    def game(self, player1, player2):\n",
    "        while True:\n",
    "            self.update(player1.move(self.state))\n",
    "            finished = self.won()\n",
    "            if finished: return finished\n",
    "            self.update(player2.move(self.state))\n",
    "            finished = self.won()\n",
    "            if finished: return finished\n",
    "            \n",
    "    def update(self, move):\n",
    "        pass\n",
    "            \n",
    "    def won(self):\n",
    "        pass\n",
    "    "
   ]
  },
  {
   "cell_type": "code",
   "execution_count": 16,
   "metadata": {},
   "outputs": [],
   "source": [
    "class Player():\n",
    "    def __init__(self):\n",
    "        pass\n",
    "    \n",
    "    def move(self, state):\n",
    "        raise NotImplementedError\n",
    "        \n",
    "    def win():\n",
    "        pass\n",
    "    \n",
    "    def lose():\n",
    "        pass\n",
    "    \n",
    "    def tie():\n",
    "        pass\n",
    "    \n",
    "\n",
    "    \n",
    "class Human(Player):\n",
    "    pass\n",
    "\n",
    "\n",
    "\n",
    "class DataBot(Player):\n",
    "    def __init__(self, player_number, ID):\n",
    "        self.player_number = player_number\n",
    "        self.conn, self.cur = self.initiateDB(ID)\n",
    "        self.states = []\n",
    "     \n",
    "    \n",
    "    \n",
    "    def initiateDB(self, ID):\n",
    "        conn = sqlite3.connect(str(ID) + '.db')\n",
    "        cur = conn.cursor()\n",
    "        try:\n",
    "            c.execute(\"\"\"CREATE TABLE states\n",
    "                         ([state] string PRIMARY KEY, [wins] integer, [loss] integer, [tie] integer)\"\"\")\n",
    "        except:\n",
    "            pass\n",
    "        conn.commit()\n",
    "        return conn, cur\n",
    "        \n",
    "        \n",
    "        \n",
    "    def move(self, state):\n",
    "        all_moves = self.get_moves(state)\n",
    "        data = self.get_data(all_moves)\n",
    "    \n",
    "    \n",
    "    def get_moves(self, state):\n",
    "        moves = []\n",
    "        for i in range(len(state)):\n",
    "            for j in range(len(state[i])):\n",
    "                if state[i][j] == None:\n",
    "                    copy = BoardHelper.copy(state)\n",
    "                    copy[i][j] = self.player_number\n",
    "                    moves.append(BoardHelper.board_to_string(copy))\n",
    "        return moves\n",
    "    \n",
    "    \n",
    "    \n",
    "    def get_data(moves):\n",
    "        pass\n",
    "    \n",
    "    \n",
    "    \n",
    "    def win(self):\n",
    "        pass\n",
    "    \n",
    "    \n",
    "    \n",
    "    def loss(self):\n",
    "        pass\n",
    "    \n",
    "    \n",
    "    \n",
    "    def tie(self):\n",
    "        pass\n",
    "    \n",
    "    \n",
    "    \n",
    "    \n",
    "class BoardHelper():\n",
    "    def board_to_string(board):\n",
    "        player1 = ''\n",
    "        player2 = ''\n",
    "        for i in range(len(board)):\n",
    "            for j in range(len(board[i])):\n",
    "                if board[i][j] == 1:\n",
    "                    player1 += f'{i}{j}'\n",
    "                elif board[i][j] == 2:\n",
    "                    player2 += f'{i}{j}'\n",
    "        return player1 + '/' + player2\n",
    "    \n",
    "    \n",
    "    \n",
    "    def string_to_board(string):\n",
    "        board = [[None, None, None],\n",
    "                 [None, None, None],\n",
    "                 [None, None, None]]\n",
    "        split = string.split('/')\n",
    "        for i in range(len(split)):\n",
    "            for pair in [split[i][n: n+2] for n in range(0, len(split[i]), 2)]:\n",
    "                board[int(pair[0])][int(pair[1])] = i + 1\n",
    "        return board\n",
    "    \n",
    "    def copy(board):\n",
    "        return [row.copy() for row in board]\n",
    "                "
   ]
  },
  {
   "cell_type": "code",
   "execution_count": 22,
   "metadata": {},
   "outputs": [],
   "source": [
    "import sqlite3\n",
    "\n",
    "conn = sqlite3.connect('TestDB.db')  # You can create a new database by changing the name within the quotes\n",
    "c = conn.cursor() # The database will be saved in the location where your 'py' file is saved\n",
    "\n",
    "# Create table - CLIENTS\n",
    "try:\n",
    "    c.execute('''CREATE TABLE B\n",
    "                 ([state] STRING,[win] integer, [loss] integer, [tie] integer)''')\n",
    "except:\n",
    "    pass\n",
    "                 \n",
    "conn.commit()\n"
   ]
  },
  {
   "cell_type": "code",
   "execution_count": 27,
   "metadata": {},
   "outputs": [
    {
     "data": {
      "text/plain": [
       "<sqlite3.Cursor at 0x11fbe9ce0>"
      ]
     },
     "execution_count": 27,
     "metadata": {},
     "output_type": "execute_result"
    }
   ],
   "source": [
    "c.execute(\"\"\"REPLACE INTO B VALUES ('c',2,2,3)\"\"\")"
   ]
  },
  {
   "cell_type": "code",
   "execution_count": 30,
   "metadata": {},
   "outputs": [
    {
     "data": {
      "text/plain": [
       "[('b', 2, 2, 3), ('a', 2, 2, 3)]"
      ]
     },
     "execution_count": 30,
     "metadata": {},
     "output_type": "execute_result"
    }
   ],
   "source": [
    "c.execute(\"\"\"SELECT * FROM B WHERE state IN ('a', 'b')\"\"\")\n",
    "c.fetchall()"
   ]
  },
  {
   "cell_type": "code",
   "execution_count": 31,
   "metadata": {},
   "outputs": [],
   "source": [
    "conn.commit()"
   ]
  },
  {
   "cell_type": "code",
   "execution_count": null,
   "metadata": {},
   "outputs": [],
   "source": []
  }
 ],
 "metadata": {
  "kernelspec": {
   "display_name": "tictactoe-env",
   "language": "python",
   "name": "tictactoe-env"
  },
  "language_info": {
   "codemirror_mode": {
    "name": "ipython",
    "version": 3
   },
   "file_extension": ".py",
   "mimetype": "text/x-python",
   "name": "python",
   "nbconvert_exporter": "python",
   "pygments_lexer": "ipython3",
   "version": "3.8.3"
  }
 },
 "nbformat": 4,
 "nbformat_minor": 4
}
